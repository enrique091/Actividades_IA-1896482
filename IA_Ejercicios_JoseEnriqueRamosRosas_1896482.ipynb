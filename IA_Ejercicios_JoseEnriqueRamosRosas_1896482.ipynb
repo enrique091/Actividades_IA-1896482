{
  "nbformat": 4,
  "nbformat_minor": 0,
  "metadata": {
    "colab": {
      "name": "Untitled0.ipynb",
      "provenance": [],
      "collapsed_sections": []
    },
    "kernelspec": {
      "name": "python3",
      "display_name": "Python 3"
    },
    "language_info": {
      "name": "python"
    }
  },
  "cells": [
    {
      "cell_type": "code",
      "execution_count": 13,
      "metadata": {
        "colab": {
          "base_uri": "https://localhost:8080/"
        },
        "id": "W5xXlJ9PsBTq",
        "outputId": "6acb2ed1-7553-4358-b05d-233d05b6e2bd"
      },
      "outputs": [
        {
          "output_type": "stream",
          "name": "stdout",
          "text": [
            "hola, mucho gusto dime tu nombre\n",
            "pedro\n",
            "Mucho gusto, pedro\n"
          ]
        }
      ],
      "source": [
        "#Jose Enrique Ramos Rosas 1896482 jueves/N1\n",
        "print(\"hola, mucho gusto dime tu nombre\")\n",
        "name = input()\n",
        "if name == \"Pedro\":\n",
        " print(\"Hasta luego- usted no aplica Señor Pedro\")\n",
        "if name == \"Ana\":\n",
        " print(\"Hasta luego usted no aplica Señorita Ana\")\n",
        "if name == \"Juan\":\n",
        " print(\"Hasta luego- usted no aplica Señor Juan\")\n",
        "else:\n",
        " print(\"Mucho gusto, {}\" .format(name))"
      ]
    },
    {
      "cell_type": "code",
      "source": [
        "#Jose Enrique Ramos Rosas 1896482 jueves/N1\n",
        "lista = [2,3,4,5,6]\n",
        "lista2 = lista[::-1]\n",
        "print(lista2)\n"
      ],
      "metadata": {
        "colab": {
          "base_uri": "https://localhost:8080/"
        },
        "id": "Ay_14_ZwD5k1",
        "outputId": "5835c2e7-32c6-46b1-f66b-616cebec878f"
      },
      "execution_count": null,
      "outputs": [
        {
          "output_type": "stream",
          "name": "stdout",
          "text": [
            "[6, 5, 4, 3, 2]\n"
          ]
        }
      ]
    },
    {
      "cell_type": "code",
      "source": [
        "#Jose Enrique Ramos Rosas 1896482 jueves/N1\n",
        "def hello_world(words):\n",
        "\n",
        "    size = max(len(word) for word in words)\n",
        "    print(\"*\"*(size+4))\n",
        "\n",
        "    for i in words:\n",
        "        print(\"*\"+\" \"+i+\" \"*((size+4)-len(i)-3)+\"*\")\n",
        "\n",
        "    print(\"*\"*(size+4))\n",
        "\n",
        "hello_world([\"por\",\"fin\",\"me\",\"salió\",\"el\",\"marco\"])"
      ],
      "metadata": {
        "colab": {
          "base_uri": "https://localhost:8080/"
        },
        "id": "kr2bTmHID_KW",
        "outputId": "5a8a68bf-7ddd-4011-e865-3df37db50ed1"
      },
      "execution_count": null,
      "outputs": [
        {
          "output_type": "stream",
          "name": "stdout",
          "text": [
            "*********\n",
            "* por   *\n",
            "* fin   *\n",
            "* me    *\n",
            "* salió *\n",
            "* el    *\n",
            "* marco *\n",
            "*********\n"
          ]
        }
      ]
    }
  ]
}